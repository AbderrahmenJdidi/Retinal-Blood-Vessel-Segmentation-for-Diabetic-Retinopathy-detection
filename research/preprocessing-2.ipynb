{
 "cells": [
  {
   "cell_type": "code",
   "execution_count": null,
   "id": "fcf4567b",
   "metadata": {},
   "outputs": [],
   "source": [
    "import cv2\n",
    "import numpy as np\n",
    "import matplotlib.pyplot as plt"
   ]
  },
  {
   "cell_type": "code",
   "execution_count": null,
   "id": "31454935",
   "metadata": {},
   "outputs": [],
   "source": [
    "img_bgr = cv2.imread(\"../image.jpg\", cv2.IMREAD_GRAYSCALE)\n",
    "img_rgb = cv2.cvtColor(img_bgr, cv2.COLOR_BGR2RGB)\n",
    "img = cv2.resize(img_rgb, (512, 512), interpolation=cv2.INTER_AREA)\n",
    "\n",
    "selem = cv2.getStructuringElement(cv2.MORPH_ELLIPSE, (15,15))"
   ]
  },
  {
   "cell_type": "code",
   "execution_count": null,
   "id": "dc8e61a9",
   "metadata": {},
   "outputs": [],
   "source": [
    "# Top-hat et Bottom-hat\n",
    "opened = cv2.morphologyEx(img, cv2.MORPH_OPEN, selem)\n",
    "closed = cv2.morphologyEx(img, cv2.MORPH_CLOSE, selem)\n",
    "\n",
    "tophat = cv2.subtract(img, opened)\n",
    "bothat = cv2.subtract(closed, img)\n",
    "\n",
    "# Rehaussement du contraste global\n",
    "enhanced = cv2.add(img, tophat)\n",
    "enhanced = cv2.subtract(enhanced, bothat)\n",
    "\n",
    "# Normalisation\n",
    "enhanced = cv2.normalize(enhanced, None, 0, 255, cv2.NORM_MINMAX).astype(np.uint8)\n",
    "\n",
    "\n",
    "small_selem = cv2.getStructuringElement(cv2.MORPH_ELLIPSE, (3,3))\n",
    "\n",
    "# Opening = suppression du bruit clair isolé\n",
    "opened = cv2.morphologyEx(enhanced, cv2.MORPH_OPEN, small_selem)\n",
    "\n",
    "# Closing = comblement de petits trous dans les vaisseaux\n",
    "cleaned = cv2.morphologyEx(opened, cv2.MORPH_CLOSE, small_selem)"
   ]
  },
  {
   "cell_type": "code",
   "execution_count": null,
   "id": "1afabb2e",
   "metadata": {},
   "outputs": [],
   "source": [
    "plt.figure(figsize=(15,5))\n",
    "plt.subplot(1,3,1); plt.imshow(img, cmap='gray'); plt.title('Original')\n",
    "plt.subplot(1,3,2); plt.imshow(enhanced, cmap='gray'); plt.title('Renforcé (Top-hat/Bottom-hat)')\n",
    "plt.subplot(1,3,3); plt.imshow(cleaned, cmap='gray'); plt.title('Nettoyé ')\n",
    "plt.show()"
   ]
  }
 ],
 "metadata": {
  "language_info": {
   "name": "python"
  }
 },
 "nbformat": 4,
 "nbformat_minor": 5
}
